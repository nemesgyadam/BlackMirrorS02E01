{
 "cells": [
  {
   "cell_type": "code",
   "execution_count": 1,
   "metadata": {},
   "outputs": [],
   "source": [
    "import os\n",
    "import random\n",
    "import json\n",
    "import datetime\n",
    "\n",
    "\n",
    "me = 'subject'\n",
    "test_id = 'sample_user'\n",
    "\n",
    "root = 'sample_data/'\n",
    "target_dir = 'sample_training_data/'\n",
    "training_data = 'sample_training_data/'\n"
   ]
  },
  {
   "cell_type": "code",
   "execution_count": 2,
   "metadata": {},
   "outputs": [],
   "source": [
    "def ms2date(timestamp_ms):\n",
    "    return datetime.datetime.fromtimestamp(timestamp_ms/1000.0)\n",
    "\n",
    "def fix(text):\n",
    "    text = text.encode('latin1').decode('utf8')\n",
    "    return text\n",
    "    \n",
    "def showMessage(message):\n",
    "    print(message['sender_name'],'--->', ms2date(message['timestamp_ms']))\n",
    "    print(get_content(message))\n",
    "    print()\n",
    "\n",
    "def get_content(message):\n",
    "    try:\n",
    "        m = message['content']\n",
    "        try:\n",
    "            m = fix(m)\n",
    "        except:\n",
    "            ...\n",
    "        return m\n",
    "    except Exception as e:\n",
    "        #print(e)\n",
    "        #print(message['gifs'][0]['uri'].split('/')[-1])\n",
    "        return '[gif]'\n"
   ]
  },
  {
   "cell_type": "code",
   "execution_count": 3,
   "metadata": {},
   "outputs": [],
   "source": [
    "def split2conversations(messages, limit = 60, reverse=True): #limit in minute\n",
    "    # minute to ms\n",
    "    limit = limit * 60 * 1000\n",
    "    if reverse:\n",
    "        messages.reverse()\n",
    "    conversations = []\n",
    "    conversation = []\n",
    "    for message in messages:\n",
    "        if len(conversation) == 0:\n",
    "            conversation.append(message)\n",
    "        else:\n",
    "            if abs(message['timestamp_ms'] - conversation[-1]['timestamp_ms']) < limit:\n",
    "                conversation.append(message)\n",
    "            else:\n",
    "                conversations.append(conversation)\n",
    "                conversation = [message]\n",
    "    conversations.append(conversation)\n",
    "    return conversations\n",
    "\n",
    "\n",
    "def merge_message(conversation):\n",
    "    starter = None\n",
    "    temp = None\n",
    "    result_json = []\n",
    "\n",
    "    last_sender = starter\n",
    "    for message in conversation:\n",
    "        if message.get('sender_name') == last_sender:\n",
    "            temp['content']+=get_content(message)+\"\\n \"\n",
    "        else:\n",
    "            if temp is not None:\n",
    "                result_json.append(temp)\n",
    "            temp = {'sender_name': message.get('sender_name'), 'timestamp_ms': message.get('timestamp_ms'),'content': get_content(message)+'\\n'}\n",
    "        last_sender = message.get('sender_name')\n",
    "    result_json.append(temp)\n",
    "    return result_json\n"
   ]
  },
  {
   "cell_type": "code",
   "execution_count": 4,
   "metadata": {},
   "outputs": [
    {
     "data": {
      "text/plain": [
       "1"
      ]
     },
     "execution_count": 4,
     "metadata": {},
     "output_type": "execute_result"
    }
   ],
   "source": [
    "# LOAD CONVERSATIONS WITH TEST USER\n",
    "f = open(os.path.join(root,'inbox', test_id, 'message_1.json'), 'r')\n",
    "data = json.load(f)['messages']\n",
    "conversations = split2conversations(data)\n",
    "\n",
    "\n",
    "# LOAD ALL CONVERSATIONS\n",
    "# conversations = []\n",
    "# for partner in os.listdir(os.path.join(root,'inbox')):\n",
    "#     f = open(os.path.join(root,'inbox', partner, 'message_1.json'), 'r')\n",
    "#     data = json.load(f)['messages']\n",
    "#     conversations+= split2conversations(data)\n",
    "\n",
    "\n",
    "len(conversations) \n"
   ]
  },
  {
   "cell_type": "code",
   "execution_count": 5,
   "metadata": {},
   "outputs": [
    {
     "name": "stdout",
     "output_type": "stream",
     "text": [
      "sample_user ---> 2021-12-02 17:36:40\n",
      "Hello!\n",
      "\n",
      "sample_user ---> 2021-12-02 17:53:20\n",
      "What's up man?\n",
      "\n",
      "sample_user ---> 2021-12-02 18:10:00\n",
      ":)\n",
      "\n",
      "subject ---> 2021-12-02 18:26:40\n",
      "All good here, how about you?\n",
      "\n"
     ]
    }
   ],
   "source": [
    "for m in conversations[0]:\n",
    "    showMessage(m)"
   ]
  },
  {
   "cell_type": "code",
   "execution_count": 6,
   "metadata": {},
   "outputs": [],
   "source": [
    "merged_conversations = [merge_message(conversation) for conversation in conversations]"
   ]
  },
  {
   "cell_type": "code",
   "execution_count": 7,
   "metadata": {},
   "outputs": [
    {
     "name": "stdout",
     "output_type": "stream",
     "text": [
      "sample_user ---> 2021-12-02 17:36:40\n",
      "Hello!\n",
      "What's up man?\n",
      " :)\n",
      " \n",
      "\n",
      "subject ---> 2021-12-02 18:26:40\n",
      "All good here, how about you?\n",
      "\n",
      "\n"
     ]
    }
   ],
   "source": [
    "for m in merged_conversations[0]:\n",
    "    showMessage(m)"
   ]
  },
  {
   "cell_type": "code",
   "execution_count": 8,
   "metadata": {},
   "outputs": [
    {
     "name": "stdout",
     "output_type": "stream",
     "text": [
      "{'prompt': \"Partner: Hello!\\nWhat's up man?\\n :)\\nAgent:\", 'completion': '  All good here, how about you?\\n'}\n",
      "\n",
      "\n"
     ]
    }
   ],
   "source": [
    "def Conv2Prompt(conversation):\n",
    "    prompt_dict = []\n",
    "    for i,m in enumerate(conversation):\n",
    "        sender = 'Agent' if m['sender_name'] == me else 'Partner'\n",
    "        prompt_dict.append((sender+': '+get_content(m)+'\\n').replace('\\n \\n','\\n').replace('\\n\\n','\\n'))\n",
    "        if sender == 'Agent' and len(prompt_dict)>1:\n",
    "            yield prompt_dict\n",
    "\n",
    "def Prompt2Training(prompt_dict):\n",
    "    prompt = \"\"\n",
    "    for i, key in enumerate(prompt_dict):\n",
    "        if i == len(prompt_dict)-1:\n",
    "            break\n",
    "        prompt += key\n",
    "    completion = prompt_dict[-1].replace('Agent:','')\n",
    "    data = {'prompt': prompt+'Agent:','completion': ' '+completion}\n",
    "    return data\n",
    "\n",
    "#TEST Prompt2Training\n",
    "for d in Conv2Prompt(merged_conversations[0]):\n",
    "    r = Prompt2Training(d)\n",
    "    print(r)\n",
    "    print()\n",
    "    print()"
   ]
  },
  {
   "cell_type": "code",
   "execution_count": 9,
   "metadata": {},
   "outputs": [
    {
     "name": "stdout",
     "output_type": "stream",
     "text": [
      "1\n",
      "{'prompt': \"Partner: Hello!\\nWhat's up man?\\n :)\\nAgent:\", 'completion': '  All good here, how about you?\\n'}\n"
     ]
    }
   ],
   "source": [
    "#FROMAT MESSAGES TO GPT3 TRAINING DATA FORMAT WITH CONVERSATION HISTORY\n",
    "training_data = []\n",
    "for conversation in merged_conversations:\n",
    "    for d in  Conv2Prompt(conversation):\n",
    "        training_data.append(Prompt2Training(d))\n",
    "        \n",
    "print(len(training_data))\n",
    "random.shuffle(training_data)\n",
    "training_json = json.dumps(training_data)\n",
    "\n",
    "print(training_data[0])\n"
   ]
  },
  {
   "cell_type": "code",
   "execution_count": 10,
   "metadata": {},
   "outputs": [
    {
     "name": "stdout",
     "output_type": "stream",
     "text": [
      "[{\"prompt\": \"Partner: Hello!\\nWhat's up man?\\n :)\\nAgent:\", \"completion\": \"  All good here, how about you?\\n\"}]...\n"
     ]
    }
   ],
   "source": [
    "print(training_json[:1000]+\"...\")\n",
    "\n",
    "#file_name = test_id.split('_')[0]\n",
    "file_name = 'conversations'\n",
    "# SAVE AS JSON\n",
    "with open(os.path.join(target_dir,file_name+'.json'), \"w\") as outfile:\n",
    "    outfile.write(training_json)\n",
    "\n",
    "# SAVE AS JSONLINES\n",
    "with open(os.path.join(target_dir,file_name+'.jsonl'), \"w\") as jsonl_output:\n",
    "    for entry in training_data:\n",
    "        json.dump(entry, jsonl_output)\n",
    "        jsonl_output.write('\\n')\n",
    "        "
   ]
  },
  {
   "cell_type": "code",
   "execution_count": null,
   "metadata": {},
   "outputs": [],
   "source": []
  }
 ],
 "metadata": {
  "interpreter": {
   "hash": "a81b55685ebb6380129efe90592a7e4f2f571da2ab32c8bbcf8b970d830ead19"
  },
  "kernelspec": {
   "display_name": "Python 3.7.6 64-bit",
   "language": "python",
   "name": "python3"
  },
  "language_info": {
   "codemirror_mode": {
    "name": "ipython",
    "version": 3
   },
   "file_extension": ".py",
   "mimetype": "text/x-python",
   "name": "python",
   "nbconvert_exporter": "python",
   "pygments_lexer": "ipython3",
   "version": "3.7.6"
  },
  "orig_nbformat": 4
 },
 "nbformat": 4,
 "nbformat_minor": 2
}
