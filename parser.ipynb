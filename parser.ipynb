{
 "cells": [
  {
   "cell_type": "code",
   "execution_count": 1,
   "metadata": {},
   "outputs": [],
   "source": [
    "import os\n",
    "import random\n",
    "import json\n",
    "import datetime\n",
    "from typing import List, Dict, Any, Iterator\n",
    "from IPython.display import JSON\n",
    "\n",
    "source_root = 'source_conversations'\n",
    "target_root = 'training_data'"
   ]
  },
  {
   "cell_type": "code",
   "execution_count": 2,
   "metadata": {},
   "outputs": [],
   "source": [
    "user_name           = 'sample_subject'   # Required, name of the user in conversations\n",
    "test_partner_name   = 'sample_partner'   # Required if you only want conversation with one person"
   ]
  },
  {
   "cell_type": "code",
   "execution_count": 3,
   "metadata": {},
   "outputs": [],
   "source": [
    "####################################\n",
    "#           HELPER Functions\n",
    "####################################\n",
    "\n",
    "def ms_to_date(timestamp_ms: int) -> datetime.datetime:\n",
    "    \"\"\"\n",
    "    Converts a timestamp in milliseconds to a datetime object.\n",
    "\n",
    "    :param timestamp_ms: Timestamp in milliseconds.\n",
    "    :return: Datetime object representing the given timestamp.\n",
    "    \"\"\"\n",
    "    return datetime.datetime.fromtimestamp(timestamp_ms / 1000.0)\n",
    "\n",
    "def fix_text(text: str) -> str:\n",
    "    \"\"\"\n",
    "    Fixes encoding issues in the given text.\n",
    "\n",
    "    :param text: Text string potentially with encoding issues.\n",
    "    :return: Text string with fixed encoding.\n",
    "    \"\"\"\n",
    "    return text.encode('latin1').decode('utf8')\n",
    "\n",
    "def show_message(message: Dict[str, any]) -> None:\n",
    "    \"\"\"\n",
    "    Prints the details of a message, including sender, timestamp, and content.\n",
    "\n",
    "    :param message: Dictionary containing message details.\n",
    "    \"\"\"\n",
    "    print(f\"{message['sender_name']} ---> {ms_to_date(message['timestamp_ms'])}\")\n",
    "    print(get_content(message))\n",
    "    print()\n",
    "\n",
    "def get_content(message: Dict[str, any]) -> str:\n",
    "    \"\"\"\n",
    "    Extracts the content from a message dictionary, handling encoding issues.\n",
    "\n",
    "    :param message: Message dictionary.\n",
    "    :return: The content of the message or a placeholder for non-text content.\n",
    "    \"\"\"\n",
    "    try:\n",
    "        content = message['content']\n",
    "        try:\n",
    "            content = fix_text(content)\n",
    "        except Exception:\n",
    "            pass\n",
    "        return content\n",
    "    except KeyError:\n",
    "        return '[gif]'"
   ]
  },
  {
   "cell_type": "code",
   "execution_count": 4,
   "metadata": {},
   "outputs": [],
   "source": [
    "def split2conversations(messages: List[Dict[str, Any]], limit: int = 60, reverse: bool = True) -> List[List[Dict[str, Any]]]:\n",
    "    \"\"\"\n",
    "    Splits a list of messages into conversations based on a time limit between messages.\n",
    "    Messages are considered part of the same conversation if the time gap is less than the limit.\n",
    "\n",
    "    :param messages: List of message dictionaries, each containing a 'timestamp_ms' key.\n",
    "    :param limit: Time limit in minutes to consider messages as part of the same conversation.\n",
    "    :param reverse: Whether to reverse the order of messages before processing.\n",
    "    :return: List of conversations, each a list of message dictionaries.\n",
    "    \"\"\"\n",
    "    limit *= 60 * 1000  # Convert minutes to milliseconds\n",
    "\n",
    "    if reverse:\n",
    "        messages = messages[::-1]\n",
    "\n",
    "    conversations = []\n",
    "    conversation = []\n",
    "\n",
    "    for message in messages:\n",
    "        if not conversation or abs(message['timestamp_ms'] - conversation[-1]['timestamp_ms']) < limit:\n",
    "            conversation.append(message)\n",
    "        else:\n",
    "            conversations.append(conversation)\n",
    "            conversation = [message]\n",
    "\n",
    "    if conversation:\n",
    "        conversations.append(conversation)\n",
    "\n",
    "    return conversations\n",
    "\n",
    "\n",
    "def merge_messages(conversation: List[Dict[str, Any]]) -> str:\n",
    "    \"\"\"\n",
    "    Merges messages in a conversation with the same sender into single entries.\n",
    "    Outputs the merged conversation as a JSON formatted string.\n",
    "\n",
    "    :param conversation: List of message dictionaries with 'sender_name', 'timestamp_ms', and 'content'.\n",
    "    :return: JSON formatted string representing the merged conversation.\n",
    "    \"\"\"\n",
    "    merged_messages = []\n",
    "    last_sender = None\n",
    "    temp = None\n",
    "\n",
    "    for message in conversation:\n",
    "        sender = message.get('sender_name')\n",
    "        content = get_content(message)\n",
    "\n",
    "        if sender == last_sender:\n",
    "            temp['content'] += content + \"\\n\"\n",
    "        else:\n",
    "            if temp is not None:\n",
    "                merged_messages.append(temp)\n",
    "            temp = {\n",
    "                'sender_name': sender,\n",
    "                'timestamp_ms': message.get('timestamp_ms'),\n",
    "                'content': content + \"\\n\"\n",
    "            }\n",
    "        last_sender = sender\n",
    "\n",
    "    if temp:\n",
    "        merged_messages.append(temp)\n",
    "\n",
    "    return merged_messages"
   ]
  },
  {
   "cell_type": "code",
   "execution_count": 5,
   "metadata": {},
   "outputs": [
    {
     "data": {
      "text/plain": [
       "2"
      ]
     },
     "execution_count": 5,
     "metadata": {},
     "output_type": "execute_result"
    }
   ],
   "source": [
    "# LOAD CONVERSATIONS WITH TEST USER\n",
    "f = open(os.path.join(source_root,user_name,'inbox', test_partner_name, 'message_1.json'), 'r')\n",
    "data = json.load(f)['messages']\n",
    "conversations = split2conversations(data)\n",
    "\n",
    "\n",
    "# LOAD ALL CONVERSATIONS\n",
    "# conversations = []\n",
    "# for partner in os.listdir(os.path.join(source_root,user_name,'inbox')):\n",
    "#     f = open(os.path.join(source_root,user_name,'inbox', partner, 'message_1.json'), 'r')\n",
    "#     data = json.load(f)['messages']\n",
    "#     conversations+= split2conversations(data)\n",
    "\n",
    "\n",
    "len(conversations) \n"
   ]
  },
  {
   "cell_type": "code",
   "execution_count": 6,
   "metadata": {},
   "outputs": [
    {
     "name": "stdout",
     "output_type": "stream",
     "text": [
      "sample_user ---> 2021-12-02 17:36:40\n",
      "Hello!\n",
      "\n",
      "sample_user ---> 2021-12-02 17:53:20\n",
      "What's up man?\n",
      "\n",
      "sample_user ---> 2021-12-02 18:10:00\n",
      ":)\n",
      "\n",
      "sample_subject ---> 2021-12-02 18:26:40\n",
      "All good here, how about you?\n",
      "\n"
     ]
    }
   ],
   "source": [
    "for m in conversations[0]:\n",
    "    show_message(m)"
   ]
  },
  {
   "cell_type": "code",
   "execution_count": 7,
   "metadata": {},
   "outputs": [],
   "source": [
    "merged_conversations = [merge_messages(conversation) for conversation in conversations]"
   ]
  },
  {
   "cell_type": "code",
   "execution_count": 8,
   "metadata": {},
   "outputs": [
    {
     "name": "stdout",
     "output_type": "stream",
     "text": [
      "sample_user ---> 2021-12-02 17:36:40\n",
      "Hello!\n",
      "What's up man?\n",
      ":)\n",
      "\n",
      "\n",
      "sample_subject ---> 2021-12-02 18:26:40\n",
      "All good here, how about you?\n",
      "\n",
      "\n",
      "----------------------------------------------------------------------------------------------------\n",
      "sample_partner ---> 2021-12-14 08:13:20\n",
      "Hi again\n",
      "\n",
      "\n",
      "sample_subject ---> 2021-12-14 08:30:00\n",
      "Still good\n",
      "\n",
      "\n",
      "----------------------------------------------------------------------------------------------------\n"
     ]
    }
   ],
   "source": [
    "for i in range(len(conversations)):\n",
    "    for m in merged_conversations[i]:\n",
    "        show_message(m)\n",
    "    print(\"-\"*100)"
   ]
  },
  {
   "cell_type": "code",
   "execution_count": 9,
   "metadata": {},
   "outputs": [],
   "source": [
    "def conversation_to_prompt(conversation: List[Dict[str, any]], me: str) -> Iterator[str]:\n",
    "    \"\"\"\n",
    "    Converts a conversation into a series of prompt dictionaries in JSON format.\n",
    "\n",
    "    :param conversation: List of messages from the 'merge_messages' function output.\n",
    "    :param me: Identifier for the 'Assistant' in the conversation.\n",
    "    :return: Iterator of JSON-formatted prompt dictionaries.\n",
    "    \"\"\"\n",
    "    prompt_dict = []\n",
    "    for message in conversation:\n",
    "        role = 'assistant' if message['sender_name'] == me else 'user'\n",
    "        prompt_dict.append({'role': role, 'content': get_content(message).strip()})\n",
    "\n",
    "        if role == 'assistant' and len(prompt_dict) > 1:\n",
    "            yield {\"messages\": prompt_dict}\n",
    "            prompt_dict = []\n",
    "\n",
    "def collect_prompts(merged_conversations: List[List[Dict[str, any]]], me: str) -> List[Dict[str, List[Dict[str, any]]]]:\n",
    "    \"\"\"\n",
    "    Collects all prompt dictionaries from multiple conversations, each as a separate dictionary object.\n",
    "\n",
    "    :param merged_conversations: List of conversations, each a list of merged message dictionaries.\n",
    "    :param me: Identifier for the 'Assistant' in the conversations.\n",
    "    :return: A list of dictionaries, each representing the prompt dictionaries from a conversation.\n",
    "    \"\"\"\n",
    "    all_prompts = []\n",
    "\n",
    "    for conversation in merged_conversations:\n",
    "        conversation_prompts = []\n",
    "        for prompt in conversation_to_prompt(conversation, me):\n",
    "            conversation_prompts.extend(prompt[\"messages\"])\n",
    "        if conversation_prompts:\n",
    "            all_prompts.append({\"messages\": conversation_prompts})\n",
    "\n",
    "    return all_prompts\n",
    "\n"
   ]
  },
  {
   "cell_type": "code",
   "execution_count": 10,
   "metadata": {},
   "outputs": [],
   "source": [
    "training_data = collect_prompts(merged_conversations, me=user_name)"
   ]
  },
  {
   "cell_type": "code",
   "execution_count": 11,
   "metadata": {},
   "outputs": [
    {
     "data": {
      "application/json": {
       "messages": [
        {
         "content": "Hello!\nWhat's up man?\n:)",
         "role": "user"
        },
        {
         "content": "All good here, how about you?",
         "role": "assistant"
        }
       ]
      },
      "text/plain": [
       "<IPython.core.display.JSON object>"
      ]
     },
     "execution_count": 11,
     "metadata": {
      "application/json": {
       "expanded": false,
       "root": "root"
      }
     },
     "output_type": "execute_result"
    }
   ],
   "source": [
    "JSON(training_data[0])"
   ]
  },
  {
   "cell_type": "code",
   "execution_count": 12,
   "metadata": {},
   "outputs": [],
   "source": [
    "file_path = os.path.join(target_root, f\"{user_name}.jsonl\")\n",
    "with open(file_path, 'w', encoding='utf-8') as file:\n",
    "    for conversation in training_data:\n",
    "        print(json.dumps(conversation), file=file)"
   ]
  },
  {
   "cell_type": "code",
   "execution_count": null,
   "metadata": {},
   "outputs": [],
   "source": []
  }
 ],
 "metadata": {
  "interpreter": {
   "hash": "a81b55685ebb6380129efe90592a7e4f2f571da2ab32c8bbcf8b970d830ead19"
  },
  "kernelspec": {
   "display_name": "Python 3.7.6 64-bit",
   "language": "python",
   "name": "python3"
  },
  "language_info": {
   "codemirror_mode": {
    "name": "ipython",
    "version": 3
   },
   "file_extension": ".py",
   "mimetype": "text/x-python",
   "name": "python",
   "nbconvert_exporter": "python",
   "pygments_lexer": "ipython3",
   "version": "3.11.0"
  },
  "orig_nbformat": 4
 },
 "nbformat": 4,
 "nbformat_minor": 2
}
