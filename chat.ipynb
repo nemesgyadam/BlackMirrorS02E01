{
 "cells": [
  {
   "cell_type": "code",
   "execution_count": 36,
   "metadata": {},
   "outputs": [],
   "source": [
    "import openai\n",
    "from ftfy import fix_encoding\n",
    "API_key= '...'\n",
    "openai.api_key = API_key\n",
    "models={\n",
    "    'a' :'curie:ft-personal-XXXX-XX-XX-XX-XX-XX',\n",
    "    'b' :'curie:ft-personal-XXXX-YY-YY-YY-YY-YY',\n",
    "}"
   ]
  },
  {
   "cell_type": "code",
   "execution_count": null,
   "metadata": {},
   "outputs": [],
   "source": [
    "def Anwser(messages, fine_tuned = True):\n",
    "    model =models['a'] if fine_tuned else 'curie'\n",
    "    for i, message_pair in enumerate(messages):\n",
    "        if i == 0:\n",
    "            if type(message_pair) == str:\n",
    "                prompt = \"Agent: {} \\n\".format(message_pair)\n",
    "            if type(message_pair) == tuple:\n",
    "                prompt = \"Partner: {} \\nAgent: {}\\n\".format(message_pair[0], message_pair[1])\n",
    "        else:\n",
    "            if type(message_pair) == str:\n",
    "                prompt+= \"Partner: {} \\n\".format(message_pair)\n",
    "            if type(message_pair) == tuple:\n",
    "                prompt+= \"Partner: {} \\nAgent: {}\\n\".format(message_pair[0], message_pair[1])\n",
    "    print(prompt)\n",
    "    prompt += 'Agent: '\n",
    "    \n",
    "    \n",
    "    response = openai.Completion.create(\n",
    "        model = model, \n",
    "        prompt = \"Partner: {} \\nAgent:\".format(messages),\n",
    "        max_tokens = 100,\n",
    "        temperature = 0.9,\n",
    "        n = 2,\n",
    "        presence_penalty = 2.0,\n",
    "        stop = '\\n'\n",
    "        \n",
    "    )\n",
    "    result = []\n",
    "    for choice in response['choices']:\n",
    "        result.append(fix_encoding(choice['text']))\n",
    "    return result\n",
    "\n",
    "\n",
    "\n"
   ]
  },
  {
   "cell_type": "code",
   "execution_count": null,
   "metadata": {},
   "outputs": [],
   "source": [
    "# MESSAGE PAIRS STARTING WITH PARTNER MESSAGE (EXCPET FOR FIRST AND LAST MESSAGE_PAIR\n",
    "#     PARTNER         AGENT                                       PARTNER\n",
    "m = [('Szia, micsi?','Csáá, Black Mirror maratont tolok, te? '), ('Kockolási, milyen a sori?')]\n",
    "#m = [('Hi, what r u doing?','Hiii, Black Mirror marathon over here, how about u?'), ('Playin’n’stuff, what is the series like?')]\n",
    "\n",
    "#m = [('Mi jót csinálsz?', 'Hát még a cikken dolgozom, tudod amit a meséltem'),('Nem rémlik, miről írsz?')]\n",
    "#m = [('What are you doing?','Still working on the article, the one I mentioned you before'),('Can’t recall, what is it about?')]\n",
    "\n",
    "responses= Anwser(m)\n",
    "print(\"-\"*100)\n",
    "for response in responses:\n",
    "    print( 'Agent: '+response)\n",
    "print(\"-\"*100)"
   ]
  },
  {
   "cell_type": "code",
   "execution_count": 41,
   "metadata": {},
   "outputs": [
    {
     "name": "stdout",
     "output_type": "stream",
     "text": [
      "Partner: Szia, micsi? \n",
      "Agent: Csáá, Black Mirror maratont tolok, te? \n",
      "Partner: Kockolási, milyen a sori? \n",
      "\n",
      " [('Barát', 'Az őrjárat hazaérkezett, ne feledkezzünk tőle'), ('Üdvözlendő a kóserrel példálom volt'), ('Minden ide,')] Partner: [('Bizonyosan újságot kaphat majd esetleg más párnázzal együtt meg enne\n",
      " 'Jegyzem, pontosan amiatt próbáltam megtartani a kapcsolatot, hogy őszintén sincs az egész igazuk. Csak egy problémáról akart beszélni – épp úgy nyugtázik a munka, mint az emberek.' [('Nagyon okos', 'B\n"
     ]
    }
   ],
   "source": [
    "# BASE LINE RESULT FROM MODEL WITH NO FINE TUNING\n",
    "for response in Anwser(m,fine_tuned=False):\n",
    "    print(response)"
   ]
  },
  {
   "cell_type": "code",
   "execution_count": null,
   "metadata": {},
   "outputs": [],
   "source": []
  }
 ],
 "metadata": {
  "interpreter": {
   "hash": "b956af2d98f661ad58700e6c7f7c7415c1ee538b99ede012fcb41b8141576a4c"
  },
  "kernelspec": {
   "display_name": "Python 3.6.8 64-bit",
   "language": "python",
   "name": "python3"
  },
  "language_info": {
   "codemirror_mode": {
    "name": "ipython",
    "version": 3
   },
   "file_extension": ".py",
   "mimetype": "text/x-python",
   "name": "python",
   "nbconvert_exporter": "python",
   "pygments_lexer": "ipython3",
   "version": "3.7.6"
  },
  "orig_nbformat": 4
 },
 "nbformat": 4,
 "nbformat_minor": 2
}
